{
 "cells": [
  {
   "cell_type": "code",
   "execution_count": 13,
   "metadata": {},
   "outputs": [],
   "source": [
    "%matplotlib inline\n",
    "\n",
    "import matplotlib.pyplot as plt\n",
    "import pandas as pd\n",
    "import numpy as np\n",
    "import math"
   ]
  },
  {
   "cell_type": "code",
   "execution_count": 26,
   "metadata": {},
   "outputs": [],
   "source": [
    "feature_dict = {i:label for i,label in zip(\n",
    "                range(4),\n",
    "                  ('sepal length in cm',\n",
    "                  'sepal width in cm',\n",
    "                  'petal length in cm',\n",
    "                  'petal width in cm', ))}\n",
    "label_dict = {1: 'Setosa', 2: 'Versicolor', 3:'Virginica'}"
   ]
  },
  {
   "cell_type": "code",
   "execution_count": 7,
   "metadata": {},
   "outputs": [],
   "source": [
    "df = pd.read_csv('iris.data.csv', header=None)"
   ]
  },
  {
   "cell_type": "code",
   "execution_count": 10,
   "metadata": {},
   "outputs": [],
   "source": [
    "df.columns = [l for i,l in sorted(feature_dict.items())] + ['class label']\n",
    "df.dropna(how=\"all\", inplace=True) # to drop the empty line at file-end"
   ]
  },
  {
   "cell_type": "code",
   "execution_count": 12,
   "metadata": {},
   "outputs": [
    {
     "data": {
      "text/plain": [
       "<bound method NDFrame.head of      sepal length in cm  sepal width in cm  petal length in cm  \\\n",
       "0                   5.1                3.5                 1.4   \n",
       "1                   4.9                3.0                 1.4   \n",
       "2                   4.7                3.2                 1.3   \n",
       "3                   4.6                3.1                 1.5   \n",
       "4                   5.0                3.6                 1.4   \n",
       "5                   5.4                3.9                 1.7   \n",
       "6                   4.6                3.4                 1.4   \n",
       "7                   5.0                3.4                 1.5   \n",
       "8                   4.4                2.9                 1.4   \n",
       "9                   4.9                3.1                 1.5   \n",
       "10                  5.4                3.7                 1.5   \n",
       "11                  4.8                3.4                 1.6   \n",
       "12                  4.8                3.0                 1.4   \n",
       "13                  4.3                3.0                 1.1   \n",
       "14                  5.8                4.0                 1.2   \n",
       "15                  5.7                4.4                 1.5   \n",
       "16                  5.4                3.9                 1.3   \n",
       "17                  5.1                3.5                 1.4   \n",
       "18                  5.7                3.8                 1.7   \n",
       "19                  5.1                3.8                 1.5   \n",
       "20                  5.4                3.4                 1.7   \n",
       "21                  5.1                3.7                 1.5   \n",
       "22                  4.6                3.6                 1.0   \n",
       "23                  5.1                3.3                 1.7   \n",
       "24                  4.8                3.4                 1.9   \n",
       "25                  5.0                3.0                 1.6   \n",
       "26                  5.0                3.4                 1.6   \n",
       "27                  5.2                3.5                 1.5   \n",
       "28                  5.2                3.4                 1.4   \n",
       "29                  4.7                3.2                 1.6   \n",
       "..                  ...                ...                 ...   \n",
       "120                 6.9                3.2                 5.7   \n",
       "121                 5.6                2.8                 4.9   \n",
       "122                 7.7                2.8                 6.7   \n",
       "123                 6.3                2.7                 4.9   \n",
       "124                 6.7                3.3                 5.7   \n",
       "125                 7.2                3.2                 6.0   \n",
       "126                 6.2                2.8                 4.8   \n",
       "127                 6.1                3.0                 4.9   \n",
       "128                 6.4                2.8                 5.6   \n",
       "129                 7.2                3.0                 5.8   \n",
       "130                 7.4                2.8                 6.1   \n",
       "131                 7.9                3.8                 6.4   \n",
       "132                 6.4                2.8                 5.6   \n",
       "133                 6.3                2.8                 5.1   \n",
       "134                 6.1                2.6                 5.6   \n",
       "135                 7.7                3.0                 6.1   \n",
       "136                 6.3                3.4                 5.6   \n",
       "137                 6.4                3.1                 5.5   \n",
       "138                 6.0                3.0                 4.8   \n",
       "139                 6.9                3.1                 5.4   \n",
       "140                 6.7                3.1                 5.6   \n",
       "141                 6.9                3.1                 5.1   \n",
       "142                 5.8                2.7                 5.1   \n",
       "143                 6.8                3.2                 5.9   \n",
       "144                 6.7                3.3                 5.7   \n",
       "145                 6.7                3.0                 5.2   \n",
       "146                 6.3                2.5                 5.0   \n",
       "147                 6.5                3.0                 5.2   \n",
       "148                 6.2                3.4                 5.4   \n",
       "149                 5.9                3.0                 5.1   \n",
       "\n",
       "     petal width in cm  class label  \n",
       "0                  0.2            0  \n",
       "1                  0.2            0  \n",
       "2                  0.2            0  \n",
       "3                  0.2            0  \n",
       "4                  0.2            0  \n",
       "5                  0.4            0  \n",
       "6                  0.3            0  \n",
       "7                  0.2            0  \n",
       "8                  0.2            0  \n",
       "9                  0.1            0  \n",
       "10                 0.2            0  \n",
       "11                 0.2            0  \n",
       "12                 0.1            0  \n",
       "13                 0.1            0  \n",
       "14                 0.2            0  \n",
       "15                 0.4            0  \n",
       "16                 0.4            0  \n",
       "17                 0.3            0  \n",
       "18                 0.3            0  \n",
       "19                 0.3            0  \n",
       "20                 0.2            0  \n",
       "21                 0.4            0  \n",
       "22                 0.2            0  \n",
       "23                 0.5            0  \n",
       "24                 0.2            0  \n",
       "25                 0.2            0  \n",
       "26                 0.4            0  \n",
       "27                 0.2            0  \n",
       "28                 0.2            0  \n",
       "29                 0.2            0  \n",
       "..                 ...          ...  \n",
       "120                2.3            2  \n",
       "121                2.0            2  \n",
       "122                2.0            2  \n",
       "123                1.8            2  \n",
       "124                2.1            2  \n",
       "125                1.8            2  \n",
       "126                1.8            2  \n",
       "127                1.8            2  \n",
       "128                2.1            2  \n",
       "129                1.6            2  \n",
       "130                1.9            2  \n",
       "131                2.0            2  \n",
       "132                2.2            2  \n",
       "133                1.5            2  \n",
       "134                1.4            2  \n",
       "135                2.3            2  \n",
       "136                2.4            2  \n",
       "137                1.8            2  \n",
       "138                1.8            2  \n",
       "139                2.1            2  \n",
       "140                2.4            2  \n",
       "141                2.3            2  \n",
       "142                1.9            2  \n",
       "143                2.3            2  \n",
       "144                2.5            2  \n",
       "145                2.3            2  \n",
       "146                1.9            2  \n",
       "147                2.0            2  \n",
       "148                2.3            2  \n",
       "149                1.8            2  \n",
       "\n",
       "[150 rows x 5 columns]>"
      ]
     },
     "execution_count": 12,
     "metadata": {},
     "output_type": "execute_result"
    }
   ],
   "source": [
    "df['class label'] = df['class label'].astype('category')\n",
    "df['class label'] = df['class label'].cat.codes\n",
    "df.head"
   ]
  },
  {
   "cell_type": "code",
   "execution_count": 22,
   "metadata": {},
   "outputs": [],
   "source": [
    "X = df.iloc[:,:-1].values\n",
    "y = df['class label'].values"
   ]
  },
  {
   "cell_type": "code",
   "execution_count": 27,
   "metadata": {},
   "outputs": [
    {
     "name": "stderr",
     "output_type": "stream",
     "text": [
      "/home/q/.local/lib/python3.6/site-packages/matplotlib/cbook/deprecation.py:107: MatplotlibDeprecationWarning: Passing one of 'on', 'true', 'off', 'false' as a boolean is deprecated; use an actual boolean (True/False) instead.\n",
      "  warnings.warn(message, mplDeprecation, stacklevel=1)\n"
     ]
    },
    {
     "data": {
      "image/png": "[encoded data removed]",
      "text/plain": [
       "<Figure size 864x432 with 4 Axes>"
      ]
     },
     "metadata": {},
     "output_type": "display_data"
    }
   ],
   "source": [
    "fig, axes = plt.subplots(nrows=2, ncols=2, figsize=(12,6))\n",
    "\n",
    "for ax,cnt in zip(axes.ravel(), range(4)):  \n",
    "\n",
    "    # set bin sizes\n",
    "    min_b = math.floor(np.min(X[:,cnt]))\n",
    "    max_b = math.ceil(np.max(X[:,cnt]))\n",
    "    bins = np.linspace(min_b, max_b, 25)\n",
    "\n",
    "    # plottling the histograms\n",
    "    for lab,col in zip(range(1,4), ('blue', 'red', 'green')):\n",
    "        ax.hist(X[y==lab, cnt],\n",
    "                   color=col,\n",
    "                   label='class %s' %label_dict[lab],\n",
    "                   bins=bins,\n",
    "                   alpha=0.5,)\n",
    "    ylims = ax.get_ylim()\n",
    "\n",
    "    # plot annotation\n",
    "    leg = ax.legend(loc='upper right', fancybox=True, fontsize=8)\n",
    "    leg.get_frame().set_alpha(0.5)\n",
    "    ax.set_ylim([0, max(ylims)+2])\n",
    "    ax.set_xlabel(feature_dict[cnt])\n",
    "    ax.set_title('Iris histogram #%s' %str(cnt+1))\n",
    "\n",
    "    # hide axis ticks\n",
    "    ax.tick_params(axis=\"both\", which=\"both\", bottom=\"off\", top=\"off\",  \n",
    "            labelbottom=\"on\", left=\"off\", right=\"off\", labelleft=\"on\")\n",
    "\n",
    "    # remove axis spines\n",
    "    ax.spines[\"top\"].set_visible(False)  \n",
    "    ax.spines[\"right\"].set_visible(False)\n",
    "    ax.spines[\"bottom\"].set_visible(False)\n",
    "    ax.spines[\"left\"].set_visible(False)    \n",
    "\n",
    "axes[0][0].set_ylabel('count')\n",
    "axes[1][0].set_ylabel('count')\n",
    "\n",
    "fig.tight_layout()       \n",
    "\n",
    "plt.show()"
   ]
  }
 ],
 "metadata": {
  "kernelspec": {
   "display_name": "Python 3",
   "language": "python",
   "name": "python3"
  },
  "language_info": {
   "codemirror_mode": {
    "name": "ipython",
    "version": 3
   },
   "file_extension": ".py",
   "mimetype": "text/x-python",
   "name": "python",
   "nbconvert_exporter": "python",
   "pygments_lexer": "ipython3",
   "version": "3.6.7"
  }
 },
 "nbformat": 4,
 "nbformat_minor": 2
}
